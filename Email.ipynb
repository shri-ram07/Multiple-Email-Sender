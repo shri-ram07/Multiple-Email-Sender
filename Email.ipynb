{
 "cells": [
  {
   "cell_type": "code",
   "execution_count": null,
   "id": "5a6b6902",
   "metadata": {
    "scrolled": false
   },
   "outputs": [],
   "source": [
    "import pandas as p                 #pandas library helps on taking input from external exel file\n",
    "\n",
    "from mailbox import Message\n",
    "import smtplib                     #for sending Emails we need SMTP library \n",
    "host=\"smtp.gmail.com\"                #host is the server we are using in the program\n",
    "port=587\n",
    "from_email=input(\"Enter Your Email ID\")      #taking input of sender Email & password from user\n",
    "password=input(\"Enter Your Password:  \")\n",
    "path_of_exelfile=r\"C:\\Users\\rauna\\Documents\\Book1.xlsx\"    #path of the exel file\n",
    "df=p.read_excel(path_of_exelfile)              #using pandas library , we take out the email column from exel file\n",
    "\n",
    "receiver_email=list(df.Email)                  #we need to convert all emails in the form of list\n",
    "\n",
    "Subject=input(\"Enter the subject for your Email: \")  #taking subject and message from user\n",
    "MESSAGE=input(\"Enter the message you want to send:  \")\n",
    "#\"\"\"for using SMTP {Simple Mail Tranfer Protocol} library first we need to call that server , so we are calling the server in smtp variable\"\"\"\n",
    "smtp=smtplib.SMTP(host,port)     \n",
    "smtp.ehlo()\n",
    "smtp.starttls()       #startTLS(transport layer security) used to upgrade the connection security from non encrypted to encrypted one\n",
    "smtp.login(from_email,password)        #login in the server\n",
    "massage=\"subject:{}\\n\\n{}\".format(Subject,MESSAGE)      # formating the message\n",
    "smtp.sendmail(from_email,receiver_email,massage)           # send the mail\n",
    "print(\"Mail Sent Successfully\")                          # Give confirmation that the message has been sent\n",
    "smtp.quit()  #quit the smtp module"
   ]
  }
 ],
 "metadata": {
  "kernelspec": {
   "display_name": "Python 3 (ipykernel)",
   "language": "python",
   "name": "python3"
  },
  "language_info": {
   "codemirror_mode": {
    "name": "ipython",
    "version": 3
   },
   "file_extension": ".py",
   "mimetype": "text/x-python",
   "name": "python",
   "nbconvert_exporter": "python",
   "pygments_lexer": "ipython3",
   "version": "3.11.4"
  }
 },
 "nbformat": 4,
 "nbformat_minor": 5
}
